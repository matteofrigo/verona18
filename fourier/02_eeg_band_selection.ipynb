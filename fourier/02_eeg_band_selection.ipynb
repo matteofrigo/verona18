{
 "cells": [
  {
   "cell_type": "code",
   "execution_count": null,
   "metadata": {},
   "outputs": [],
   "source": [
    "%matplotlib inline\n",
    "from __future__ import division\n",
    "from os import path\n",
    "import numpy as np\n",
    "import scipy\n",
    "from scipy import fftpack\n",
    "import matplotlib.pyplot as plt"
   ]
  },
  {
   "cell_type": "code",
   "execution_count": null,
   "metadata": {},
   "outputs": [],
   "source": [
    "path_data = path.join('data','eeg.npy')\n",
    "eeg = np.load(path_data)\n",
    "fc = 512.0 # Hz\n",
    "T = 15.0\n",
    "time = np.linspace(0,int(T),int(fc*T))\n",
    "\n",
    "sig = eeg[9] # select channel number 7"
   ]
  },
  {
   "cell_type": "code",
   "execution_count": null,
   "metadata": {},
   "outputs": [],
   "source": [
    "plt.figure()\n",
    "plt.plot(time, sig)"
   ]
  },
  {
   "cell_type": "code",
   "execution_count": null,
   "metadata": {},
   "outputs": [],
   "source": [
    "sig_fft = fftpack.fft(sig)\n",
    "\n",
    "power = np.abs(sig_fft)\n",
    "\n",
    "sample_freq = fftpack.fftfreq(sig.size, d=1/fc)\n",
    "\n",
    "plt.figure()\n",
    "plt.plot(sample_freq, power)\n",
    "plt.xlabel('Frequency [Hz]')\n",
    "plt.ylabel('power')\n",
    "plt.title('Spectrum')\n",
    "plt.show()"
   ]
  },
  {
   "cell_type": "markdown",
   "metadata": {},
   "source": [
    "Brain activity\n",
    "====\n",
    "The activity of the brain can be studied by means of the frequency analysis of EEG signal. Each band corresponds to a different activity. [See some documentation](https://en.wikipedia.org/wiki/Electroencephalography#Normal_activity)."
   ]
  },
  {
   "cell_type": "code",
   "execution_count": null,
   "metadata": {},
   "outputs": [],
   "source": [
    "bands = [\n",
    "    [0.5,3.5, 'Delta'],\n",
    "    [3.5,7.0, 'Theta'],\n",
    "    [7.0,14.0, 'Alpha'],\n",
    "    [14.0,21.0, 'Beta1'],\n",
    "    [21.0,30.0, 'Beta2']\n",
    "]\n",
    "\n",
    "ylim = fftpack.ifft(sig_fft).max()\n",
    "for i,b in enumerate(bands):\n",
    "    plt.figure()\n",
    "    band_fft = sig_fft.copy()\n",
    "    band_fft[np.abs(sample_freq)<b[0]] = 0.0\n",
    "    band_fft[np.abs(sample_freq)>b[1]] = 0.0\n",
    "    filtered_signal = fftpack.ifft(band_fft)\n",
    "    plt.plot(time, filtered_signal)\n",
    "    plt.ylim([-ylim,ylim])\n",
    "    plt.title('%s band:  %02f Hz -> %02f Hz' % (b[2], b[0], b[1]))\n"
   ]
  },
  {
   "cell_type": "code",
   "execution_count": null,
   "metadata": {},
   "outputs": [],
   "source": []
  }
 ],
 "metadata": {
  "kernelspec": {
   "display_name": "Python 2",
   "language": "python",
   "name": "python2"
  },
  "language_info": {
   "codemirror_mode": {
    "name": "ipython",
    "version": 2
   },
   "file_extension": ".py",
   "mimetype": "text/x-python",
   "name": "python",
   "nbconvert_exporter": "python",
   "pygments_lexer": "ipython2",
   "version": "2.7.14"
  }
 },
 "nbformat": 4,
 "nbformat_minor": 2
}
